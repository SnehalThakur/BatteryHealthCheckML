{
 "cells": [
  {
   "cell_type": "code",
   "execution_count": 1,
   "id": "aabfc9b7",
   "metadata": {},
   "outputs": [],
   "source": [
    "import numpy as np\n",
    "import pandas as pd\n",
    "import matplotlib as plt"
   ]
  },
  {
   "cell_type": "code",
   "execution_count": 2,
   "id": "079ed1b4",
   "metadata": {},
   "outputs": [],
   "source": [
    "batteryData = pd.read_csv(r'C:\\Users\\snehal\\PycharmProjects\\BatteryHealthCheckML\\data\\Train_data.csv')"
   ]
  },
  {
   "cell_type": "code",
   "execution_count": 3,
   "id": "bfadbf7d",
   "metadata": {},
   "outputs": [
    {
     "data": {
      "text/html": [
       "<div>\n",
       "<style scoped>\n",
       "    .dataframe tbody tr th:only-of-type {\n",
       "        vertical-align: middle;\n",
       "    }\n",
       "\n",
       "    .dataframe tbody tr th {\n",
       "        vertical-align: top;\n",
       "    }\n",
       "\n",
       "    .dataframe thead th {\n",
       "        text-align: right;\n",
       "    }\n",
       "</style>\n",
       "<table border=\"1\" class=\"dataframe\">\n",
       "  <thead>\n",
       "    <tr style=\"text-align: right;\">\n",
       "      <th></th>\n",
       "      <th>Voltage</th>\n",
       "      <th>Current</th>\n",
       "      <th>Temperature</th>\n",
       "      <th>Capacity</th>\n",
       "      <th>SOC Capacity</th>\n",
       "      <th>SOC Percentage</th>\n",
       "    </tr>\n",
       "  </thead>\n",
       "  <tbody>\n",
       "    <tr>\n",
       "      <th>0</th>\n",
       "      <td>4.18616</td>\n",
       "      <td>-0.03831</td>\n",
       "      <td>-0.73611</td>\n",
       "      <td>0.00000</td>\n",
       "      <td>2.59028</td>\n",
       "      <td>0.999495</td>\n",
       "    </tr>\n",
       "    <tr>\n",
       "      <th>1</th>\n",
       "      <td>4.18380</td>\n",
       "      <td>-0.07662</td>\n",
       "      <td>-0.73611</td>\n",
       "      <td>0.00000</td>\n",
       "      <td>2.59028</td>\n",
       "      <td>0.999495</td>\n",
       "    </tr>\n",
       "    <tr>\n",
       "      <th>2</th>\n",
       "      <td>4.18228</td>\n",
       "      <td>-0.08939</td>\n",
       "      <td>-0.73611</td>\n",
       "      <td>-0.00001</td>\n",
       "      <td>2.59027</td>\n",
       "      <td>0.999491</td>\n",
       "    </tr>\n",
       "    <tr>\n",
       "      <th>3</th>\n",
       "      <td>4.18110</td>\n",
       "      <td>-0.09450</td>\n",
       "      <td>-0.73611</td>\n",
       "      <td>-0.00001</td>\n",
       "      <td>2.59027</td>\n",
       "      <td>0.999491</td>\n",
       "    </tr>\n",
       "    <tr>\n",
       "      <th>4</th>\n",
       "      <td>4.18026</td>\n",
       "      <td>-0.09450</td>\n",
       "      <td>-0.73611</td>\n",
       "      <td>-0.00001</td>\n",
       "      <td>2.59027</td>\n",
       "      <td>0.999491</td>\n",
       "    </tr>\n",
       "  </tbody>\n",
       "</table>\n",
       "</div>"
      ],
      "text/plain": [
       "   Voltage  Current  Temperature  Capacity  SOC Capacity  SOC Percentage\n",
       "0  4.18616 -0.03831     -0.73611   0.00000       2.59028        0.999495\n",
       "1  4.18380 -0.07662     -0.73611   0.00000       2.59028        0.999495\n",
       "2  4.18228 -0.08939     -0.73611  -0.00001       2.59027        0.999491\n",
       "3  4.18110 -0.09450     -0.73611  -0.00001       2.59027        0.999491\n",
       "4  4.18026 -0.09450     -0.73611  -0.00001       2.59027        0.999491"
      ]
     },
     "execution_count": 3,
     "metadata": {},
     "output_type": "execute_result"
    }
   ],
   "source": [
    "batteryData.head()"
   ]
  },
  {
   "cell_type": "code",
   "execution_count": 4,
   "id": "766d2261-e423-468c-a491-99c99db3ee0a",
   "metadata": {},
   "outputs": [],
   "source": [
    "batteryData = batteryData.round({'Voltage':4, 'Temperature':4, 'Capacity':4, 'SOC Capacity':4, 'SOC Percentage':4}) "
   ]
  },
  {
   "cell_type": "code",
   "execution_count": 5,
   "id": "d4616531",
   "metadata": {},
   "outputs": [
    {
     "data": {
      "text/plain": [
       "(1094734, 6)"
      ]
     },
     "execution_count": 5,
     "metadata": {},
     "output_type": "execute_result"
    }
   ],
   "source": [
    "batteryData.shape"
   ]
  },
  {
   "cell_type": "code",
   "execution_count": 6,
   "id": "0dc8ec45-6a53-4b37-bd9e-44ce0eac01d4",
   "metadata": {},
   "outputs": [
    {
     "data": {
      "text/plain": [
       "Index(['Voltage', 'Current', 'Temperature', 'Capacity', 'SOC Capacity',\n",
       "       'SOC Percentage'],\n",
       "      dtype='object')"
      ]
     },
     "execution_count": 6,
     "metadata": {},
     "output_type": "execute_result"
    }
   ],
   "source": [
    "batteryData.columns"
   ]
  },
  {
   "cell_type": "code",
   "execution_count": 7,
   "id": "1cf23c0a-5fc0-435b-9860-2cff075f7563",
   "metadata": {},
   "outputs": [
    {
     "name": "stdout",
     "output_type": "stream",
     "text": [
      "<class 'pandas.core.frame.DataFrame'>\n",
      "RangeIndex: 1094734 entries, 0 to 1094733\n",
      "Data columns (total 6 columns):\n",
      " #   Column          Non-Null Count    Dtype  \n",
      "---  ------          --------------    -----  \n",
      " 0   Voltage         1094734 non-null  float64\n",
      " 1   Current         1094734 non-null  float64\n",
      " 2   Temperature     1094734 non-null  float64\n",
      " 3   Capacity        1094734 non-null  float64\n",
      " 4   SOC Capacity    1094734 non-null  float64\n",
      " 5   SOC Percentage  1094734 non-null  float64\n",
      "dtypes: float64(6)\n",
      "memory usage: 50.1 MB\n"
     ]
    }
   ],
   "source": [
    "# Check columns info\n",
    "batteryData.info()"
   ]
  },
  {
   "cell_type": "code",
   "execution_count": 8,
   "id": "f34b934a-9753-4d22-9c3d-2cd78afc4fb8",
   "metadata": {},
   "outputs": [
    {
     "data": {
      "text/html": [
       "<div>\n",
       "<style scoped>\n",
       "    .dataframe tbody tr th:only-of-type {\n",
       "        vertical-align: middle;\n",
       "    }\n",
       "\n",
       "    .dataframe tbody tr th {\n",
       "        vertical-align: top;\n",
       "    }\n",
       "\n",
       "    .dataframe thead th {\n",
       "        text-align: right;\n",
       "    }\n",
       "</style>\n",
       "<table border=\"1\" class=\"dataframe\">\n",
       "  <thead>\n",
       "    <tr style=\"text-align: right;\">\n",
       "      <th></th>\n",
       "      <th>Voltage</th>\n",
       "      <th>Current</th>\n",
       "      <th>Temperature</th>\n",
       "      <th>Capacity</th>\n",
       "      <th>SOC Capacity</th>\n",
       "      <th>SOC Percentage</th>\n",
       "    </tr>\n",
       "  </thead>\n",
       "  <tbody>\n",
       "    <tr>\n",
       "      <th>count</th>\n",
       "      <td>1.094734e+06</td>\n",
       "      <td>1.094734e+06</td>\n",
       "      <td>1.094734e+06</td>\n",
       "      <td>1.094734e+06</td>\n",
       "      <td>1.094734e+06</td>\n",
       "      <td>1.094734e+06</td>\n",
       "    </tr>\n",
       "    <tr>\n",
       "      <th>mean</th>\n",
       "      <td>3.682971e+00</td>\n",
       "      <td>-1.189149e+00</td>\n",
       "      <td>9.331152e+00</td>\n",
       "      <td>-1.223793e+00</td>\n",
       "      <td>1.366487e+00</td>\n",
       "      <td>5.272780e-01</td>\n",
       "    </tr>\n",
       "    <tr>\n",
       "      <th>std</th>\n",
       "      <td>2.797686e-01</td>\n",
       "      <td>2.453860e+00</td>\n",
       "      <td>8.900490e+00</td>\n",
       "      <td>7.572624e-01</td>\n",
       "      <td>7.572633e-01</td>\n",
       "      <td>2.921991e-01</td>\n",
       "    </tr>\n",
       "    <tr>\n",
       "      <th>min</th>\n",
       "      <td>2.792700e+00</td>\n",
       "      <td>-1.809828e+01</td>\n",
       "      <td>-8.413000e-01</td>\n",
       "      <td>-2.590300e+00</td>\n",
       "      <td>0.000000e+00</td>\n",
       "      <td>0.000000e+00</td>\n",
       "    </tr>\n",
       "    <tr>\n",
       "      <th>25%</th>\n",
       "      <td>3.478400e+00</td>\n",
       "      <td>-2.334440e+00</td>\n",
       "      <td>3.155000e-01</td>\n",
       "      <td>-1.811300e+00</td>\n",
       "      <td>7.790000e-01</td>\n",
       "      <td>3.006000e-01</td>\n",
       "    </tr>\n",
       "    <tr>\n",
       "      <th>50%</th>\n",
       "      <td>3.680800e+00</td>\n",
       "      <td>-6.155400e-01</td>\n",
       "      <td>9.464300e+00</td>\n",
       "      <td>-1.273800e+00</td>\n",
       "      <td>1.316500e+00</td>\n",
       "      <td>5.080000e-01</td>\n",
       "    </tr>\n",
       "    <tr>\n",
       "      <th>75%</th>\n",
       "      <td>3.912600e+00</td>\n",
       "      <td>0.000000e+00</td>\n",
       "      <td>1.051580e+01</td>\n",
       "      <td>-5.251000e-01</td>\n",
       "      <td>2.065200e+00</td>\n",
       "      <td>7.969000e-01</td>\n",
       "    </tr>\n",
       "    <tr>\n",
       "      <th>max</th>\n",
       "      <td>4.239900e+00</td>\n",
       "      <td>6.004720e+00</td>\n",
       "      <td>2.618450e+01</td>\n",
       "      <td>1.300000e-03</td>\n",
       "      <td>2.591600e+00</td>\n",
       "      <td>1.000000e+00</td>\n",
       "    </tr>\n",
       "  </tbody>\n",
       "</table>\n",
       "</div>"
      ],
      "text/plain": [
       "            Voltage       Current   Temperature      Capacity  SOC Capacity  \\\n",
       "count  1.094734e+06  1.094734e+06  1.094734e+06  1.094734e+06  1.094734e+06   \n",
       "mean   3.682971e+00 -1.189149e+00  9.331152e+00 -1.223793e+00  1.366487e+00   \n",
       "std    2.797686e-01  2.453860e+00  8.900490e+00  7.572624e-01  7.572633e-01   \n",
       "min    2.792700e+00 -1.809828e+01 -8.413000e-01 -2.590300e+00  0.000000e+00   \n",
       "25%    3.478400e+00 -2.334440e+00  3.155000e-01 -1.811300e+00  7.790000e-01   \n",
       "50%    3.680800e+00 -6.155400e-01  9.464300e+00 -1.273800e+00  1.316500e+00   \n",
       "75%    3.912600e+00  0.000000e+00  1.051580e+01 -5.251000e-01  2.065200e+00   \n",
       "max    4.239900e+00  6.004720e+00  2.618450e+01  1.300000e-03  2.591600e+00   \n",
       "\n",
       "       SOC Percentage  \n",
       "count    1.094734e+06  \n",
       "mean     5.272780e-01  \n",
       "std      2.921991e-01  \n",
       "min      0.000000e+00  \n",
       "25%      3.006000e-01  \n",
       "50%      5.080000e-01  \n",
       "75%      7.969000e-01  \n",
       "max      1.000000e+00  "
      ]
     },
     "execution_count": 8,
     "metadata": {},
     "output_type": "execute_result"
    }
   ],
   "source": [
    "# Check match df stats\n",
    "batteryData.describe()"
   ]
  },
  {
   "cell_type": "code",
   "execution_count": 9,
   "id": "8cb5a5c2-6c9c-447e-9e73-96783bb09519",
   "metadata": {},
   "outputs": [
    {
     "data": {
      "text/plain": [
       "Voltage           0\n",
       "Current           0\n",
       "Temperature       0\n",
       "Capacity          0\n",
       "SOC Capacity      0\n",
       "SOC Percentage    0\n",
       "dtype: int64"
      ]
     },
     "execution_count": 9,
     "metadata": {},
     "output_type": "execute_result"
    }
   ],
   "source": [
    "# Check null entries\n",
    "batteryData.isna().sum()"
   ]
  },
  {
   "cell_type": "code",
   "execution_count": 10,
   "id": "7082a1ea-ac9c-414a-bd38-7038fab854ff",
   "metadata": {},
   "outputs": [
    {
     "data": {
      "text/plain": [
       "210404"
      ]
     },
     "execution_count": 10,
     "metadata": {},
     "output_type": "execute_result"
    }
   ],
   "source": [
    "# Check duplicate entries\n",
    "batteryData.duplicated().sum()"
   ]
  },
  {
   "cell_type": "code",
   "execution_count": 11,
   "id": "c5cc5046-11a4-47d3-bf6d-95c6fec75342",
   "metadata": {},
   "outputs": [],
   "source": [
    "# Drop duplicate rows\n",
    "batteryData = batteryData.drop_duplicates()"
   ]
  },
  {
   "cell_type": "code",
   "execution_count": 12,
   "id": "74d7f423-4a2a-4aa4-9277-534e213ec782",
   "metadata": {},
   "outputs": [
    {
     "data": {
      "text/plain": [
       "0"
      ]
     },
     "execution_count": 12,
     "metadata": {},
     "output_type": "execute_result"
    }
   ],
   "source": [
    "# Check duplicate entries\n",
    "batteryData.duplicated().sum()"
   ]
  },
  {
   "cell_type": "code",
   "execution_count": 13,
   "id": "598aa4da-e22e-45de-8dde-895aabf4820f",
   "metadata": {},
   "outputs": [],
   "source": [
    "features = ['Voltage', 'Current', 'Temperature', 'Capacity']\n",
    "targetVariable='SOC Percentage'"
   ]
  },
  {
   "cell_type": "code",
   "execution_count": 14,
   "id": "5be9b35c-4e34-4983-8db8-329dbc52b0c7",
   "metadata": {},
   "outputs": [
    {
     "data": {
      "text/html": [
       "<div>\n",
       "<style scoped>\n",
       "    .dataframe tbody tr th:only-of-type {\n",
       "        vertical-align: middle;\n",
       "    }\n",
       "\n",
       "    .dataframe tbody tr th {\n",
       "        vertical-align: top;\n",
       "    }\n",
       "\n",
       "    .dataframe thead th {\n",
       "        text-align: right;\n",
       "    }\n",
       "</style>\n",
       "<table border=\"1\" class=\"dataframe\">\n",
       "  <thead>\n",
       "    <tr style=\"text-align: right;\">\n",
       "      <th></th>\n",
       "      <th>Voltage</th>\n",
       "      <th>Current</th>\n",
       "      <th>Temperature</th>\n",
       "      <th>Capacity</th>\n",
       "    </tr>\n",
       "  </thead>\n",
       "  <tbody>\n",
       "    <tr>\n",
       "      <th>0</th>\n",
       "      <td>4.1862</td>\n",
       "      <td>-0.03831</td>\n",
       "      <td>-0.7361</td>\n",
       "      <td>0.0000</td>\n",
       "    </tr>\n",
       "    <tr>\n",
       "      <th>1</th>\n",
       "      <td>4.1838</td>\n",
       "      <td>-0.07662</td>\n",
       "      <td>-0.7361</td>\n",
       "      <td>0.0000</td>\n",
       "    </tr>\n",
       "    <tr>\n",
       "      <th>2</th>\n",
       "      <td>4.1823</td>\n",
       "      <td>-0.08939</td>\n",
       "      <td>-0.7361</td>\n",
       "      <td>-0.0000</td>\n",
       "    </tr>\n",
       "    <tr>\n",
       "      <th>3</th>\n",
       "      <td>4.1811</td>\n",
       "      <td>-0.09450</td>\n",
       "      <td>-0.7361</td>\n",
       "      <td>-0.0000</td>\n",
       "    </tr>\n",
       "    <tr>\n",
       "      <th>4</th>\n",
       "      <td>4.1803</td>\n",
       "      <td>-0.09450</td>\n",
       "      <td>-0.7361</td>\n",
       "      <td>-0.0000</td>\n",
       "    </tr>\n",
       "    <tr>\n",
       "      <th>...</th>\n",
       "      <td>...</td>\n",
       "      <td>...</td>\n",
       "      <td>...</td>\n",
       "      <td>...</td>\n",
       "    </tr>\n",
       "    <tr>\n",
       "      <th>1094312</th>\n",
       "      <td>3.2278</td>\n",
       "      <td>0.00000</td>\n",
       "      <td>23.9762</td>\n",
       "      <td>-2.5583</td>\n",
       "    </tr>\n",
       "    <tr>\n",
       "      <th>1094396</th>\n",
       "      <td>3.2280</td>\n",
       "      <td>0.00000</td>\n",
       "      <td>23.9762</td>\n",
       "      <td>-2.5583</td>\n",
       "    </tr>\n",
       "    <tr>\n",
       "      <th>1094481</th>\n",
       "      <td>3.2282</td>\n",
       "      <td>0.00000</td>\n",
       "      <td>23.9762</td>\n",
       "      <td>-2.5583</td>\n",
       "    </tr>\n",
       "    <tr>\n",
       "      <th>1094569</th>\n",
       "      <td>3.2284</td>\n",
       "      <td>0.00000</td>\n",
       "      <td>23.9762</td>\n",
       "      <td>-2.5583</td>\n",
       "    </tr>\n",
       "    <tr>\n",
       "      <th>1094665</th>\n",
       "      <td>3.2285</td>\n",
       "      <td>0.00000</td>\n",
       "      <td>23.9762</td>\n",
       "      <td>-2.5583</td>\n",
       "    </tr>\n",
       "  </tbody>\n",
       "</table>\n",
       "<p>884330 rows × 4 columns</p>\n",
       "</div>"
      ],
      "text/plain": [
       "         Voltage  Current  Temperature  Capacity\n",
       "0         4.1862 -0.03831      -0.7361    0.0000\n",
       "1         4.1838 -0.07662      -0.7361    0.0000\n",
       "2         4.1823 -0.08939      -0.7361   -0.0000\n",
       "3         4.1811 -0.09450      -0.7361   -0.0000\n",
       "4         4.1803 -0.09450      -0.7361   -0.0000\n",
       "...          ...      ...          ...       ...\n",
       "1094312   3.2278  0.00000      23.9762   -2.5583\n",
       "1094396   3.2280  0.00000      23.9762   -2.5583\n",
       "1094481   3.2282  0.00000      23.9762   -2.5583\n",
       "1094569   3.2284  0.00000      23.9762   -2.5583\n",
       "1094665   3.2285  0.00000      23.9762   -2.5583\n",
       "\n",
       "[884330 rows x 4 columns]"
      ]
     },
     "execution_count": 14,
     "metadata": {},
     "output_type": "execute_result"
    }
   ],
   "source": [
    "X = batteryData[features]\n",
    "X"
   ]
  },
  {
   "cell_type": "code",
   "execution_count": 15,
   "id": "18be614c-557e-43c4-b947-536fb5d7370a",
   "metadata": {},
   "outputs": [
    {
     "data": {
      "text/plain": [
       "array([0.9995, 0.9995, 0.9995, ..., 0.0124, 0.0124, 0.0124])"
      ]
     },
     "execution_count": 15,
     "metadata": {},
     "output_type": "execute_result"
    }
   ],
   "source": [
    "y = batteryData[targetVariable].values\n",
    "y = y.astype('float')\n",
    "y"
   ]
  },
  {
   "cell_type": "code",
   "execution_count": 16,
   "id": "2dd5de13-6d19-4012-bca7-fff52108982a",
   "metadata": {},
   "outputs": [
    {
     "data": {
      "text/plain": [
       "array([[ 1.78294432,  0.52563602, -1.13025477,  1.60406085],\n",
       "       [ 1.77414383,  0.51124957, -1.13025477,  1.60406085],\n",
       "       [ 1.76864352,  0.50645409, -1.13025477,  1.60406085],\n",
       "       ...,\n",
       "       [-1.72991903,  0.54002247,  1.65230663, -1.99681285],\n",
       "       [-1.72918566,  0.54002247,  1.65230663, -1.99681285],\n",
       "       [-1.72881897,  0.54002247,  1.65230663, -1.99681285]])"
      ]
     },
     "execution_count": 16,
     "metadata": {},
     "output_type": "execute_result"
    }
   ],
   "source": [
    "from sklearn.preprocessing import StandardScaler\n",
    "\n",
    "predictorScaler = StandardScaler()\n",
    "\n",
    "predictorScalerFit = predictorScaler.fit(X)\n",
    "\n",
    "X_enc = predictorScalerFit.transform(X)\n",
    "X_enc"
   ]
  },
  {
   "cell_type": "code",
   "execution_count": 17,
   "id": "eb518d3e-4ba5-4095-a781-a26845c726ea",
   "metadata": {},
   "outputs": [
    {
     "name": "stdout",
     "output_type": "stream",
     "text": [
      "X_train.shape -  (707464, 4)\n",
      "X_test.shape -  (176866, 4)\n",
      "y_train.shape -  (707464,)\n",
      "y_test.shape -  (176866,)\n"
     ]
    }
   ],
   "source": [
    "# Splitting the data into trainand test set\n",
    "from sklearn.model_selection import train_test_split\n",
    "X_train, X_test, y_train, y_test = train_test_split(X_enc, y, test_size=0.2, random_state=42)\n",
    "print('X_train.shape - ',X_train.shape)\n",
    "print('X_test.shape - ',X_test.shape)\n",
    "print('y_train.shape - ',y_train.shape)\n",
    "print('y_test.shape - ',y_test.shape)"
   ]
  },
  {
   "cell_type": "code",
   "execution_count": 18,
   "id": "4629fcf6-e0d4-4da6-8627-550cf3e2f426",
   "metadata": {},
   "outputs": [
    {
     "data": {
      "text/plain": [
       "1.0"
      ]
     },
     "execution_count": 18,
     "metadata": {},
     "output_type": "execute_result"
    }
   ],
   "source": [
    "y_test.max()"
   ]
  },
  {
   "cell_type": "code",
   "execution_count": 29,
   "id": "89dce1fe-ac13-4377-845c-e89a7537fb1a",
   "metadata": {},
   "outputs": [],
   "source": [
    "from sklearn.metrics import mean_squared_error\n",
    "from sklearn.tree import DecisionTreeRegressor\n",
    "from sklearn.linear_model import LinearRegression\n",
    "from sklearn.ensemble import AdaBoostRegressor, RandomForestRegressor\n",
    "import xgboost as xg "
   ]
  },
  {
   "cell_type": "code",
   "execution_count": 31,
   "id": "157dc9cc-a4d6-4c4c-bc5a-c49d461739a4",
   "metadata": {},
   "outputs": [],
   "source": [
    "regressor = [\n",
    "    LinearRegression(),\n",
    "    DecisionTreeRegressor(),\n",
    "    AdaBoostRegressor(),\n",
    "    RandomForestRegressor(),\n",
    "    xg.XGBRegressor() \n",
    "]\n",
    "\n",
    "name = []\n",
    "train_acc = []\n",
    "test_acc = []\n",
    "models = []\n",
    "rmse = []\n",
    "\n",
    "i = 0\n",
    "for regression in regressor:\n",
    "    regression.fit(X_train, y_train)\n",
    "    name.append(type(regression).__name__)\n",
    "    train_acc.append(regression.score(X_train, y_train))\n",
    "    test_acc.append(regression.score(X_test, y_test))\n",
    "    models.append(regression)\n",
    "    rmse.append(np.sqrt(mean_squared_error(regression.predict(X_test), y_test)))"
   ]
  },
  {
   "cell_type": "code",
   "execution_count": 32,
   "id": "b21aa1ff-39e5-4766-b154-b7b7bd444168",
   "metadata": {},
   "outputs": [
    {
     "data": {
      "text/html": [
       "<div>\n",
       "<style scoped>\n",
       "    .dataframe tbody tr th:only-of-type {\n",
       "        vertical-align: middle;\n",
       "    }\n",
       "\n",
       "    .dataframe tbody tr th {\n",
       "        vertical-align: top;\n",
       "    }\n",
       "\n",
       "    .dataframe thead th {\n",
       "        text-align: right;\n",
       "    }\n",
       "</style>\n",
       "<table border=\"1\" class=\"dataframe\">\n",
       "  <thead>\n",
       "    <tr style=\"text-align: right;\">\n",
       "      <th></th>\n",
       "      <th>train_acc</th>\n",
       "      <th>test_acc</th>\n",
       "      <th>rmse</th>\n",
       "      <th>models</th>\n",
       "    </tr>\n",
       "    <tr>\n",
       "      <th>name</th>\n",
       "      <th></th>\n",
       "      <th></th>\n",
       "      <th></th>\n",
       "      <th></th>\n",
       "    </tr>\n",
       "  </thead>\n",
       "  <tbody>\n",
       "    <tr>\n",
       "      <th>AdaBoostRegressor</th>\n",
       "      <td>0.989618</td>\n",
       "      <td>0.989592</td>\n",
       "      <td>0.027975</td>\n",
       "      <td>(DecisionTreeRegressor(max_depth=3, random_sta...</td>\n",
       "    </tr>\n",
       "    <tr>\n",
       "      <th>XGBRegressor</th>\n",
       "      <td>0.999984</td>\n",
       "      <td>0.999984</td>\n",
       "      <td>0.001091</td>\n",
       "      <td>XGBRegressor(base_score=None, booster=None, ca...</td>\n",
       "    </tr>\n",
       "    <tr>\n",
       "      <th>DecisionTreeRegressor</th>\n",
       "      <td>1.000000</td>\n",
       "      <td>1.000000</td>\n",
       "      <td>0.000037</td>\n",
       "      <td>DecisionTreeRegressor()</td>\n",
       "    </tr>\n",
       "    <tr>\n",
       "      <th>LinearRegression</th>\n",
       "      <td>1.000000</td>\n",
       "      <td>1.000000</td>\n",
       "      <td>0.000031</td>\n",
       "      <td>LinearRegression()</td>\n",
       "    </tr>\n",
       "    <tr>\n",
       "      <th>RandomForestRegressor</th>\n",
       "      <td>1.000000</td>\n",
       "      <td>1.000000</td>\n",
       "      <td>0.000030</td>\n",
       "      <td>(DecisionTreeRegressor(max_features=1.0, rando...</td>\n",
       "    </tr>\n",
       "  </tbody>\n",
       "</table>\n",
       "</div>"
      ],
      "text/plain": [
       "                       train_acc  test_acc      rmse  \\\n",
       "name                                                   \n",
       "AdaBoostRegressor       0.989618  0.989592  0.027975   \n",
       "XGBRegressor            0.999984  0.999984  0.001091   \n",
       "DecisionTreeRegressor   1.000000  1.000000  0.000037   \n",
       "LinearRegression        1.000000  1.000000  0.000031   \n",
       "RandomForestRegressor   1.000000  1.000000  0.000030   \n",
       "\n",
       "                                                                  models  \n",
       "name                                                                      \n",
       "AdaBoostRegressor      (DecisionTreeRegressor(max_depth=3, random_sta...  \n",
       "XGBRegressor           XGBRegressor(base_score=None, booster=None, ca...  \n",
       "DecisionTreeRegressor                            DecisionTreeRegressor()  \n",
       "LinearRegression                                      LinearRegression()  \n",
       "RandomForestRegressor  (DecisionTreeRegressor(max_features=1.0, rando...  "
      ]
     },
     "execution_count": 32,
     "metadata": {},
     "output_type": "execute_result"
    }
   ],
   "source": [
    "df_score = pd.DataFrame(list(zip(name, train_acc, test_acc, rmse, models)), columns=['name', 'train_acc', 'test_acc', 'rmse', 'models'])\n",
    "df_score.set_index('name', inplace=True)\n",
    "df_score.sort_values(by=['test_acc'], inplace=True)\n",
    "df_score"
   ]
  },
  {
   "cell_type": "code",
   "execution_count": 33,
   "id": "0ca5477d-deb6-43c8-a424-c50482ce6857",
   "metadata": {},
   "outputs": [
    {
     "data": {
      "text/plain": [
       "array([[-0.01895657,  0.04127343,  1.65230663, -0.34803693],\n",
       "       [-0.3618091 ,  0.50357379, -0.94080824, -0.55438023],\n",
       "       [ 0.92966321, -0.18795594,  0.01829228,  1.12085718],\n",
       "       ...,\n",
       "       [-0.13886328, -0.54475567,  0.01829228, -0.21896679],\n",
       "       [-1.72625216, -0.41239357, -0.94080824, -1.65098372],\n",
       "       [-0.77103201, -1.40509243, -0.85792467, -0.29441019]])"
      ]
     },
     "execution_count": 33,
     "metadata": {},
     "output_type": "execute_result"
    }
   ],
   "source": [
    "X_test"
   ]
  },
  {
   "cell_type": "code",
   "execution_count": 34,
   "id": "89e9787f-708e-492b-a55e-f6e921bce5df",
   "metadata": {},
   "outputs": [
    {
     "data": {
      "text/plain": [
       "array([0.46431367, 0.4078    , 0.867     , ..., 0.4997    , 0.107116  ,\n",
       "       0.479     ])"
      ]
     },
     "execution_count": 34,
     "metadata": {},
     "output_type": "execute_result"
    }
   ],
   "source": [
    "#Final model\n",
    "model = df_score.loc[\"RandomForestRegressor\", \"models\"]\n",
    "prediction = model.predict(X_test)\n",
    "prediction"
   ]
  },
  {
   "cell_type": "code",
   "execution_count": 35,
   "id": "d543d351-bf18-436c-9046-8ef131e1c74e",
   "metadata": {},
   "outputs": [
    {
     "data": {
      "text/plain": [
       "1.0"
      ]
     },
     "execution_count": 35,
     "metadata": {},
     "output_type": "execute_result"
    }
   ],
   "source": [
    "prediction.max()"
   ]
  },
  {
   "cell_type": "code",
   "execution_count": 36,
   "id": "0297b63a-9e2f-49de-92be-1eeff17cde34",
   "metadata": {},
   "outputs": [
    {
     "data": {
      "text/plain": [
       "array([[ 3.6948 , -1.32813, 23.9762 , -1.3869 ],\n",
       "       [ 3.6013 , -0.09706,  0.9464 , -1.5335 ],\n",
       "       [ 3.9535 , -1.93855,  9.4643 , -0.3433 ],\n",
       "       ...,\n",
       "       [ 3.6621 , -2.88868,  9.4643 , -1.2952 ],\n",
       "       [ 3.2292 , -2.53621,  0.9464 , -2.3126 ],\n",
       "       [ 3.4897 , -5.17969,  1.6825 , -1.3488 ]])"
      ]
     },
     "execution_count": 36,
     "metadata": {},
     "output_type": "execute_result"
    }
   ],
   "source": [
    "predictorScalerFit.inverse_transform(X_test)"
   ]
  },
  {
   "cell_type": "code",
   "execution_count": 37,
   "id": "89595d62",
   "metadata": {},
   "outputs": [],
   "source": [
    "import pickle\n",
    "pickle.dump(model,open('BatteryHealthPredictorModel.pkl','wb'))"
   ]
  },
  {
   "cell_type": "code",
   "execution_count": null,
   "id": "94907b88-0b6c-4060-99c4-5bf463ce110b",
   "metadata": {},
   "outputs": [],
   "source": []
  }
 ],
 "metadata": {
  "kernelspec": {
   "display_name": "Python 3 (ipykernel)",
   "language": "python",
   "name": "python3"
  },
  "language_info": {
   "codemirror_mode": {
    "name": "ipython",
    "version": 3
   },
   "file_extension": ".py",
   "mimetype": "text/x-python",
   "name": "python",
   "nbconvert_exporter": "python",
   "pygments_lexer": "ipython3",
   "version": "3.10.14"
  }
 },
 "nbformat": 4,
 "nbformat_minor": 5
}
